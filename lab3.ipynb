{
 "cells": [
  {
   "cell_type": "markdown",
   "id": "2386aeaa",
   "metadata": {},
   "source": [
    "####Lab 3.2 "
   ]
  },
  {
   "cell_type": "code",
   "execution_count": 1,
   "id": "f90c2973",
   "metadata": {},
   "outputs": [],
   "source": [
    "import polars as pl"
   ]
  }
 ],
 "metadata": {
  "kernelspec": {
   "display_name": "Python 3",
   "language": "python",
   "name": "python3"
  },
  "language_info": {
   "codemirror_mode": {
    "name": "ipython",
    "version": 3
   },
   "file_extension": ".py",
   "mimetype": "text/x-python",
   "name": "python",
   "nbconvert_exporter": "python",
   "pygments_lexer": "ipython3",
   "version": "3.11.9"
  }
 },
 "nbformat": 4,
 "nbformat_minor": 5
}
