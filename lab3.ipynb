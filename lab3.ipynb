{
 "cells": [
  {
   "cell_type": "markdown",
   "id": "2386aeaa",
   "metadata": {},
   "source": [
    "####Lab 3.2 "
   ]
  },
  {
   "cell_type": "markdown",
   "id": "9956ff9a",
   "metadata": {},
   "source": [
    "\n",
    "\n",
    "Read in the reverse coding table and use it to make a dictionary using a dict comprehension.  The keys should be the question/column names and the values should be the same, but with the type added as a suffix.  HINT.  You should zip up the relevant columns.\n",
    "\n",
    "Read in the health survey data and rename the columns using the dictionary from the previous step.\n",
    "\n",
    "Write an expression that recodes each type of coding.  Do this using two column selectors, one for each type.\n",
    "\n",
    "Next, we need to aggregate the values for each question type (e.g., questions starting with F1).  Do this using pl.reduce for each type.  Drop the original question columns using a column selector.\n",
    "\n",
    "There are a couple of things we need to fix.  Copy your solution to the last part into a new cell and perform the following. \n",
    "\n",
    "Did you notice the null entries in the results from the last step.  This is due to nulls in the original data: polars treats the sum of values containing a null as null.  We can fix this be assigning a default value to each of the recoding from step 4. Adding this default will lead to a warning, follow the advise in the warning to remove it.\n",
    "\n",
    "Instead of one expression for each questions type, use a list comprehension to combine them into one expression.  HINT. You will want to use .alias to assign the new column names."
   ]
  },
  {
   "cell_type": "code",
   "execution_count": 212,
   "id": "f90c2973",
   "metadata": {},
   "outputs": [],
   "source": [
    "import polars as pl\n",
    "import operator \n",
    "from operator import add"
   ]
  },
  {
   "cell_type": "code",
   "execution_count": 213,
   "id": "034979c9",
   "metadata": {},
   "outputs": [
    {
     "data": {
      "text/html": [
       "<div><style>\n",
       ".dataframe > thead > tr,\n",
       ".dataframe > tbody > tr {\n",
       "  text-align: right;\n",
       "  white-space: pre-wrap;\n",
       "}\n",
       "</style>\n",
       "<small>shape: (5, 45)</small><table border=\"1\" class=\"dataframe\"><thead><tr><th>ID</th><th>F1</th><th>F5</th><th>F2</th><th>F1.1</th><th>F2.1</th><th>F6</th><th>F4</th><th>F3</th><th>F5.1</th><th>F1.2</th><th>F2.2</th><th>F6.1</th><th>F2.3</th><th>F4.1</th><th>F2.4</th><th>F5.2</th><th>F2.5</th><th>F6.2</th><th>F1.3</th><th>F2.6</th><th>F5.3</th><th>F4.2</th><th>F2.7</th><th>F3.1</th><th>F2.8</th><th>F5.4</th><th>F3.2</th><th>F1.4</th><th>F3.3</th><th>F1.5</th><th>F5.5</th><th>F6.3</th><th>F1.6</th><th>F5.6</th><th>F2.9</th><th>F3.4</th><th>F4.3</th><th>F2.10</th><th>F1.7</th><th>F6.4</th><th>F4.4</th><th>F5.7</th><th>F3.5</th><th>F2.11</th></tr><tr><td>i64</td><td>str</td><td>str</td><td>str</td><td>str</td><td>str</td><td>str</td><td>str</td><td>str</td><td>str</td><td>str</td><td>str</td><td>str</td><td>str</td><td>str</td><td>str</td><td>str</td><td>str</td><td>str</td><td>str</td><td>str</td><td>str</td><td>str</td><td>str</td><td>str</td><td>str</td><td>str</td><td>str</td><td>str</td><td>str</td><td>str</td><td>str</td><td>str</td><td>str</td><td>str</td><td>str</td><td>str</td><td>str</td><td>str</td><td>str</td><td>str</td><td>str</td><td>str</td><td>str</td><td>str</td></tr></thead><tbody><tr><td>1</td><td>&quot;Somewhat Agree&quot;</td><td>&quot;Somewhat Disagree&quot;</td><td>&quot;Somewhat Agree&quot;</td><td>&quot;Somewhat Agree&quot;</td><td>&quot;Somewhat Agree&quot;</td><td>&quot;Somewhat Disagree&quot;</td><td>&quot;Somewhat Agree&quot;</td><td>&quot;Somewhat Agree&quot;</td><td>&quot;Somewhat Agree&quot;</td><td>&quot;Somewhat Agree&quot;</td><td>&quot;Somewhat Agree&quot;</td><td>&quot;Somewhat Agree&quot;</td><td>&quot;Somewhat Agree&quot;</td><td>&quot;Somewhat Agree&quot;</td><td>&quot;Somewhat Agree&quot;</td><td>&quot;Somewhat Agree&quot;</td><td>&quot;Somewhat Agree&quot;</td><td>&quot;Somewhat Agree&quot;</td><td>&quot;Somewhat Agree&quot;</td><td>&quot;Somewhat Agree&quot;</td><td>&quot;Somewhat Agree&quot;</td><td>&quot;Somewhat Agree&quot;</td><td>&quot;Somewhat Agree&quot;</td><td>&quot;Somewhat Disagree&quot;</td><td>&quot;Somewhat Agree&quot;</td><td>&quot;Somewhat Agree&quot;</td><td>&quot;Somewhat Agree&quot;</td><td>&quot;Neither Agree nor Disagree&quot;</td><td>&quot;Somewhat Agree&quot;</td><td>&quot;Somewhat Agree&quot;</td><td>&quot;Somewhat Disagree&quot;</td><td>&quot;Somewhat Disagree&quot;</td><td>&quot;Somewhat Agree&quot;</td><td>&quot;Somewhat Agree&quot;</td><td>&quot;Somewhat Agree&quot;</td><td>&quot;Somewhat Disagree&quot;</td><td>&quot;Neither Agree nor Disagree&quot;</td><td>&quot;Somewhat Agree&quot;</td><td>&quot;Somewhat Agree&quot;</td><td>&quot;Somewhat Agree&quot;</td><td>&quot;Somewhat Agree&quot;</td><td>&quot;Somewhat Agree&quot;</td><td>&quot;Somewhat Agree&quot;</td><td>&quot;Somewhat Agree&quot;</td></tr><tr><td>2</td><td>&quot;Somewhat Agree&quot;</td><td>&quot;Somewhat Disagree&quot;</td><td>&quot;Somewhat Agree&quot;</td><td>&quot;Somewhat Agree&quot;</td><td>&quot;Somewhat Agree&quot;</td><td>&quot;Somewhat Disagree&quot;</td><td>&quot;Somewhat Agree&quot;</td><td>&quot;Neither Agree nor Disagree&quot;</td><td>&quot;Neither Agree nor Disagree&quot;</td><td>&quot;Somewhat Agree&quot;</td><td>&quot;Neither Agree nor Disagree&quot;</td><td>&quot;Somewhat Agree&quot;</td><td>&quot;Somewhat Agree&quot;</td><td>&quot;Neither Agree nor Disagree&quot;</td><td>&quot;Somewhat Agree&quot;</td><td>&quot;Somewhat Agree&quot;</td><td>&quot;Somewhat Agree&quot;</td><td>&quot;Somewhat Agree&quot;</td><td>&quot;Somewhat Agree&quot;</td><td>&quot;Somewhat Agree&quot;</td><td>&quot;Somewhat Agree&quot;</td><td>&quot;Somewhat Agree&quot;</td><td>&quot;Somewhat Agree&quot;</td><td>&quot;Neither Agree nor Disagree&quot;</td><td>&quot;Somewhat Agree&quot;</td><td>&quot;Neither Agree nor Disagree&quot;</td><td>&quot;Neither Agree nor Disagree&quot;</td><td>&quot;Somewhat Agree&quot;</td><td>&quot;Neither Agree nor Disagree&quot;</td><td>&quot;Neither Agree nor Disagree&quot;</td><td>&quot;Neither Agree nor Disagree&quot;</td><td>&quot;Somewhat Disagree&quot;</td><td>&quot;Somewhat Agree&quot;</td><td>&quot;Somewhat Disagree&quot;</td><td>&quot;Somewhat Agree&quot;</td><td>&quot;Somewhat Agree&quot;</td><td>&quot;Neither Agree nor Disagree&quot;</td><td>&quot;Somewhat Agree&quot;</td><td>&quot;Somewhat Agree&quot;</td><td>&quot;Somewhat Disagree&quot;</td><td>&quot;Neither Agree nor Disagree&quot;</td><td>&quot;Somewhat Agree&quot;</td><td>&quot;Neither Agree nor Disagree&quot;</td><td>&quot;Somewhat Agree&quot;</td></tr><tr><td>3</td><td>&quot;Strongly Agree&quot;</td><td>&quot;Neither Agree nor Disagree&quot;</td><td>&quot;Somewhat Agree&quot;</td><td>&quot;Strongly Agree&quot;</td><td>&quot;Strongly Agree&quot;</td><td>&quot;Somewhat Disagree&quot;</td><td>&quot;Somewhat Agree&quot;</td><td>&quot;Somewhat Agree&quot;</td><td>&quot;Somewhat Agree&quot;</td><td>&quot;Strongly Agree&quot;</td><td>&quot;Somewhat Agree&quot;</td><td>&quot;Neither Agree nor Disagree&quot;</td><td>&quot;Somewhat Agree&quot;</td><td>&quot;Neither Agree nor Disagree&quot;</td><td>&quot;Somewhat Agree&quot;</td><td>&quot;Somewhat Disagree&quot;</td><td>&quot;Strongly Agree&quot;</td><td>&quot;Somewhat Agree&quot;</td><td>&quot;Strongly Agree&quot;</td><td>&quot;Somewhat Agree&quot;</td><td>&quot;Somewhat Agree&quot;</td><td>&quot;Somewhat Agree&quot;</td><td>null</td><td>&quot;Somewhat Disagree&quot;</td><td>&quot;Somewhat Agree&quot;</td><td>&quot;Somewhat Agree&quot;</td><td>&quot;Somewhat Agree&quot;</td><td>&quot;Somewhat Disagree&quot;</td><td>&quot;Somewhat Agree&quot;</td><td>&quot;Strongly Agree&quot;</td><td>&quot;Somewhat Disagree&quot;</td><td>&quot;Somewhat Disagree&quot;</td><td>&quot;Strongly Agree&quot;</td><td>&quot;Somewhat Disagree&quot;</td><td>&quot;Somewhat Agree&quot;</td><td>&quot;Somewhat Agree&quot;</td><td>&quot;Neither Agree nor Disagree&quot;</td><td>&quot;Somewhat Agree&quot;</td><td>&quot;Somewhat Agree&quot;</td><td>&quot;Somewhat Agree&quot;</td><td>&quot;Somewhat Agree&quot;</td><td>&quot;Strongly Agree&quot;</td><td>&quot;Strongly Disagree&quot;</td><td>&quot;Somewhat Agree&quot;</td></tr><tr><td>4</td><td>&quot;Somewhat Agree&quot;</td><td>&quot;Somewhat Agree&quot;</td><td>&quot;Strongly Agree&quot;</td><td>&quot;Somewhat Agree&quot;</td><td>&quot;Strongly Agree&quot;</td><td>&quot;Neither Agree nor Disagree&quot;</td><td>&quot;Neither Agree nor Disagree&quot;</td><td>&quot;Somewhat Disagree&quot;</td><td>&quot;Somewhat Agree&quot;</td><td>&quot;Strongly Agree&quot;</td><td>&quot;Strongly Agree&quot;</td><td>&quot;Somewhat Agree&quot;</td><td>&quot;Somewhat Agree&quot;</td><td>&quot;Neither Agree nor Disagree&quot;</td><td>&quot;Strongly Agree&quot;</td><td>&quot;Somewhat Disagree&quot;</td><td>&quot;Strongly Agree&quot;</td><td>&quot;Somewhat Agree&quot;</td><td>&quot;Somewhat Agree&quot;</td><td>&quot;Strongly Agree&quot;</td><td>&quot;Somewhat Agree&quot;</td><td>&quot;Somewhat Agree&quot;</td><td>&quot;Somewhat Agree&quot;</td><td>&quot;Somewhat Disagree&quot;</td><td>&quot;Somewhat Agree&quot;</td><td>&quot;Somewhat Agree&quot;</td><td>&quot;Somewhat Disagree&quot;</td><td>&quot;Neither Agree nor Disagree&quot;</td><td>&quot;Somewhat Disagree&quot;</td><td>&quot;Somewhat Agree&quot;</td><td>&quot;Somewhat Disagree&quot;</td><td>&quot;Somewhat Agree&quot;</td><td>&quot;Strongly Agree&quot;</td><td>&quot;Somewhat Disagree&quot;</td><td>&quot;Somewhat Agree&quot;</td><td>&quot;Somewhat Disagree&quot;</td><td>&quot;Somewhat Agree&quot;</td><td>&quot;Somewhat Agree&quot;</td><td>&quot;Neither Agree nor Disagree&quot;</td><td>&quot;Neither Agree nor Disagree&quot;</td><td>&quot;Neither Agree nor Disagree&quot;</td><td>&quot;Somewhat Agree&quot;</td><td>&quot;Somewhat Disagree&quot;</td><td>&quot;Somewhat Agree&quot;</td></tr><tr><td>5</td><td>&quot;Strongly Agree&quot;</td><td>&quot;Strongly Disagree&quot;</td><td>&quot;Neither Agree nor Disagree&quot;</td><td>&quot;Strongly Agree&quot;</td><td>&quot;Somewhat Agree&quot;</td><td>&quot;Strongly Disagree&quot;</td><td>&quot;Strongly Agree&quot;</td><td>&quot;Somewhat Agree&quot;</td><td>&quot;Neither Agree nor Disagree&quot;</td><td>&quot;Strongly Agree&quot;</td><td>&quot;Somewhat Agree&quot;</td><td>&quot;Somewhat Agree&quot;</td><td>&quot;Somewhat Disagree&quot;</td><td>&quot;Neither Agree nor Disagree&quot;</td><td>&quot;Somewhat Agree&quot;</td><td>&quot;Strongly Disagree&quot;</td><td>&quot;Strongly Agree&quot;</td><td>&quot;Strongly Agree&quot;</td><td>&quot;Strongly Agree&quot;</td><td>&quot;Strongly Agree&quot;</td><td>&quot;Strongly Agree&quot;</td><td>&quot;Somewhat Agree&quot;</td><td>&quot;Somewhat Agree&quot;</td><td>&quot;Somewhat Agree&quot;</td><td>&quot;Somewhat Agree&quot;</td><td>&quot;Neither Agree nor Disagree&quot;</td><td>&quot;Somewhat Agree&quot;</td><td>&quot;Somewhat Agree&quot;</td><td>&quot;Somewhat Agree&quot;</td><td>&quot;Somewhat Agree&quot;</td><td>&quot;Strongly Disagree&quot;</td><td>&quot;Neither Agree nor Disagree&quot;</td><td>&quot;Strongly Agree&quot;</td><td>&quot;Strongly Disagree&quot;</td><td>&quot;Somewhat Agree&quot;</td><td>&quot;Somewhat Agree&quot;</td><td>&quot;Neither Agree nor Disagree&quot;</td><td>&quot;Somewhat Agree&quot;</td><td>&quot;Somewhat Agree&quot;</td><td>&quot;Somewhat Agree&quot;</td><td>&quot;Somewhat Agree&quot;</td><td>&quot;Strongly Agree&quot;</td><td>&quot;Somewhat Disagree&quot;</td><td>&quot;Somewhat Agree&quot;</td></tr></tbody></table></div>"
      ],
      "text/plain": [
       "shape: (5, 45)\n",
       "┌─────┬────────────┬────────────┬────────────┬───┬────────────┬────────────┬───────────┬───────────┐\n",
       "│ ID  ┆ F1         ┆ F5         ┆ F2         ┆ … ┆ F4.4       ┆ F5.7       ┆ F3.5      ┆ F2.11     │\n",
       "│ --- ┆ ---        ┆ ---        ┆ ---        ┆   ┆ ---        ┆ ---        ┆ ---       ┆ ---       │\n",
       "│ i64 ┆ str        ┆ str        ┆ str        ┆   ┆ str        ┆ str        ┆ str       ┆ str       │\n",
       "╞═════╪════════════╪════════════╪════════════╪═══╪════════════╪════════════╪═══════════╪═══════════╡\n",
       "│ 1   ┆ Somewhat   ┆ Somewhat   ┆ Somewhat   ┆ … ┆ Somewhat   ┆ Somewhat   ┆ Somewhat  ┆ Somewhat  │\n",
       "│     ┆ Agree      ┆ Disagree   ┆ Agree      ┆   ┆ Agree      ┆ Agree      ┆ Agree     ┆ Agree     │\n",
       "│ 2   ┆ Somewhat   ┆ Somewhat   ┆ Somewhat   ┆ … ┆ Neither    ┆ Somewhat   ┆ Neither   ┆ Somewhat  │\n",
       "│     ┆ Agree      ┆ Disagree   ┆ Agree      ┆   ┆ Agree nor  ┆ Agree      ┆ Agree nor ┆ Agree     │\n",
       "│     ┆            ┆            ┆            ┆   ┆ Disagree   ┆            ┆ Disagree  ┆           │\n",
       "│ 3   ┆ Strongly   ┆ Neither    ┆ Somewhat   ┆ … ┆ Somewhat   ┆ Strongly   ┆ Strongly  ┆ Somewhat  │\n",
       "│     ┆ Agree      ┆ Agree nor  ┆ Agree      ┆   ┆ Agree      ┆ Agree      ┆ Disagree  ┆ Agree     │\n",
       "│     ┆            ┆ Disagree   ┆            ┆   ┆            ┆            ┆           ┆           │\n",
       "│ 4   ┆ Somewhat   ┆ Somewhat   ┆ Strongly   ┆ … ┆ Neither    ┆ Somewhat   ┆ Somewhat  ┆ Somewhat  │\n",
       "│     ┆ Agree      ┆ Agree      ┆ Agree      ┆   ┆ Agree nor  ┆ Agree      ┆ Disagree  ┆ Agree     │\n",
       "│     ┆            ┆            ┆            ┆   ┆ Disagree   ┆            ┆           ┆           │\n",
       "│ 5   ┆ Strongly   ┆ Strongly   ┆ Neither    ┆ … ┆ Somewhat   ┆ Strongly   ┆ Somewhat  ┆ Somewhat  │\n",
       "│     ┆ Agree      ┆ Disagree   ┆ Agree nor  ┆   ┆ Agree      ┆ Agree      ┆ Disagree  ┆ Agree     │\n",
       "│     ┆            ┆            ┆ Disagree   ┆   ┆            ┆            ┆           ┆           │\n",
       "└─────┴────────────┴────────────┴────────────┴───┴────────────┴────────────┴───────────┴───────────┘"
      ]
     },
     "execution_count": 213,
     "metadata": {},
     "output_type": "execute_result"
    }
   ],
   "source": [
    "healthcare = pl.read_csv(\"data/health_survey.csv\")\n",
    "healthcare.shape     \n",
    "healthcare.head()"
   ]
  },
  {
   "cell_type": "code",
   "execution_count": 214,
   "id": "ab24ea66",
   "metadata": {},
   "outputs": [
    {
     "data": {
      "text/html": [
       "<div><style>\n",
       ".dataframe > thead > tr,\n",
       ".dataframe > tbody > tr {\n",
       "  text-align: right;\n",
       "  white-space: pre-wrap;\n",
       "}\n",
       "</style>\n",
       "<small>shape: (5, 5)</small><table border=\"1\" class=\"dataframe\"><thead><tr><th>Question</th><th>Construct</th><th>Question # on Qualtrics Survey</th><th>Needs Reverse Coding?</th><th>Column Name</th></tr><tr><td>str</td><td>i64</td><td>i64</td><td>str</td><td>str</td></tr></thead><tbody><tr><td>&quot;In the future, I plan to parti…</td><td>1</td><td>1</td><td>&quot;No&quot;</td><td>&quot;F1&quot;</td></tr><tr><td>&quot;Individuals are responsible fo…</td><td>5</td><td>2</td><td>&quot;Yes&quot;</td><td>&quot;F5&quot;</td></tr><tr><td>&quot;When tryng to understand the p…</td><td>2</td><td>3</td><td>&quot;No&quot;</td><td>&quot;F2&quot;</td></tr><tr><td>&quot;I plan to become involved in m…</td><td>1</td><td>4</td><td>&quot;No&quot;</td><td>&quot;F1.1&quot;</td></tr><tr><td>&quot;I can communicate well with ot…</td><td>2</td><td>5</td><td>&quot;No&quot;</td><td>&quot;F2.1&quot;</td></tr></tbody></table></div>"
      ],
      "text/plain": [
       "shape: (5, 5)\n",
       "┌─────────────────────────────┬───────────┬──────────────────┬───────────────────────┬─────────────┐\n",
       "│ Question                    ┆ Construct ┆ Question # on    ┆ Needs Reverse Coding? ┆ Column Name │\n",
       "│ ---                         ┆ ---       ┆ Qualtrics Survey ┆ ---                   ┆ ---         │\n",
       "│ str                         ┆ i64       ┆ ---              ┆ str                   ┆ str         │\n",
       "│                             ┆           ┆ i64              ┆                       ┆             │\n",
       "╞═════════════════════════════╪═══════════╪══════════════════╪═══════════════════════╪═════════════╡\n",
       "│ In the future, I plan to    ┆ 1         ┆ 1                ┆ No                    ┆ F1          │\n",
       "│ parti…                      ┆           ┆                  ┆                       ┆             │\n",
       "│ Individuals are responsible ┆ 5         ┆ 2                ┆ Yes                   ┆ F5          │\n",
       "│ fo…                         ┆           ┆                  ┆                       ┆             │\n",
       "│ When tryng to understand    ┆ 2         ┆ 3                ┆ No                    ┆ F2          │\n",
       "│ the p…                      ┆           ┆                  ┆                       ┆             │\n",
       "│ I plan to become involved   ┆ 1         ┆ 4                ┆ No                    ┆ F1.1        │\n",
       "│ in m…                       ┆           ┆                  ┆                       ┆             │\n",
       "│ I can communicate well with ┆ 2         ┆ 5                ┆ No                    ┆ F2.1        │\n",
       "│ ot…                         ┆           ┆                  ┆                       ┆             │\n",
       "└─────────────────────────────┴───────────┴──────────────────┴───────────────────────┴─────────────┘"
      ]
     },
     "execution_count": 214,
     "metadata": {},
     "output_type": "execute_result"
    }
   ],
   "source": [
    "reverse_coding = pl.read_csv(\"data/ReverseCodingItems.csv\")\n",
    "reverse_coding.head()"
   ]
  },
  {
   "cell_type": "code",
   "execution_count": 215,
   "id": "a22cb05e",
   "metadata": {},
   "outputs": [
    {
     "data": {
      "text/html": [
       "<div><style>\n",
       ".dataframe > thead > tr,\n",
       ".dataframe > tbody > tr {\n",
       "  text-align: right;\n",
       "  white-space: pre-wrap;\n",
       "}\n",
       "</style>\n",
       "<small>shape: (9, 5)</small><table border=\"1\" class=\"dataframe\"><thead><tr><th>Question</th><th>Construct</th><th>Question # on Qualtrics Survey</th><th>Needs Reverse Coding?</th><th>Column Name</th></tr><tr><td>str</td><td>i64</td><td>i64</td><td>str</td><td>str</td></tr></thead><tbody><tr><td>&quot;Individuals are responsible fo…</td><td>5</td><td>2</td><td>&quot;Yes&quot;</td><td>&quot;F5&quot;</td></tr><tr><td>&quot;It is hard for a group to func…</td><td>6</td><td>6</td><td>&quot;Yes&quot;</td><td>&quot;F6&quot;</td></tr><tr><td>&quot;I am a better follower than a …</td><td>4</td><td>14</td><td>&quot;Yes&quot;</td><td>&quot;F4.1&quot;</td></tr><tr><td>&quot;We need to look no further tha…</td><td>5</td><td>16</td><td>&quot;Yes&quot;</td><td>&quot;F5.2&quot;</td></tr><tr><td>&quot;People are poor because they c…</td><td>5</td><td>31</td><td>&quot;Yes&quot;</td><td>&quot;F5.5&quot;</td></tr><tr><td>&quot;I find it difficult to relate …</td><td>6</td><td>32</td><td>&quot;Yes&quot;</td><td>&quot;F6.3&quot;</td></tr><tr><td>&quot;I don&#x27;t understand why some pe…</td><td>5</td><td>34</td><td>&quot;Yes&quot;</td><td>&quot;F5.6&quot;</td></tr><tr><td>&quot;I would rather have sombody el…</td><td>4</td><td>37</td><td>&quot;Yes&quot;</td><td>&quot;F4.3&quot;</td></tr><tr><td>&quot;I prefer the company of people…</td><td>6</td><td>40</td><td>&quot;Yes&quot;</td><td>&quot;F6.4&quot;</td></tr></tbody></table></div>"
      ],
      "text/plain": [
       "shape: (9, 5)\n",
       "┌─────────────────────────────┬───────────┬──────────────────┬───────────────────────┬─────────────┐\n",
       "│ Question                    ┆ Construct ┆ Question # on    ┆ Needs Reverse Coding? ┆ Column Name │\n",
       "│ ---                         ┆ ---       ┆ Qualtrics Survey ┆ ---                   ┆ ---         │\n",
       "│ str                         ┆ i64       ┆ ---              ┆ str                   ┆ str         │\n",
       "│                             ┆           ┆ i64              ┆                       ┆             │\n",
       "╞═════════════════════════════╪═══════════╪══════════════════╪═══════════════════════╪═════════════╡\n",
       "│ Individuals are responsible ┆ 5         ┆ 2                ┆ Yes                   ┆ F5          │\n",
       "│ fo…                         ┆           ┆                  ┆                       ┆             │\n",
       "│ It is hard for a group to   ┆ 6         ┆ 6                ┆ Yes                   ┆ F6          │\n",
       "│ func…                       ┆           ┆                  ┆                       ┆             │\n",
       "│ I am a better follower than ┆ 4         ┆ 14               ┆ Yes                   ┆ F4.1        │\n",
       "│ a …                         ┆           ┆                  ┆                       ┆             │\n",
       "│ We need to look no further  ┆ 5         ┆ 16               ┆ Yes                   ┆ F5.2        │\n",
       "│ tha…                        ┆           ┆                  ┆                       ┆             │\n",
       "│ People are poor because     ┆ 5         ┆ 31               ┆ Yes                   ┆ F5.5        │\n",
       "│ they c…                     ┆           ┆                  ┆                       ┆             │\n",
       "│ I find it difficult to      ┆ 6         ┆ 32               ┆ Yes                   ┆ F6.3        │\n",
       "│ relate …                    ┆           ┆                  ┆                       ┆             │\n",
       "│ I don't understand why some ┆ 5         ┆ 34               ┆ Yes                   ┆ F5.6        │\n",
       "│ pe…                         ┆           ┆                  ┆                       ┆             │\n",
       "│ I would rather have sombody ┆ 4         ┆ 37               ┆ Yes                   ┆ F4.3        │\n",
       "│ el…                         ┆           ┆                  ┆                       ┆             │\n",
       "│ I prefer the company of     ┆ 6         ┆ 40               ┆ Yes                   ┆ F6.4        │\n",
       "│ people…                     ┆           ┆                  ┆                       ┆             │\n",
       "└─────────────────────────────┴───────────┴──────────────────┴───────────────────────┴─────────────┘"
      ]
     },
     "execution_count": 215,
     "metadata": {},
     "output_type": "execute_result"
    }
   ],
   "source": [
    "reverse_coding.filter(pl.col(\"Needs Reverse Coding?\") == \"Yes\")"
   ]
  },
  {
   "cell_type": "code",
   "execution_count": 216,
   "id": "2eef7789",
   "metadata": {},
   "outputs": [
    {
     "data": {
      "text/html": [
       "<div><style>\n",
       ".dataframe > thead > tr,\n",
       ".dataframe > tbody > tr {\n",
       "  text-align: right;\n",
       "  white-space: pre-wrap;\n",
       "}\n",
       "</style>\n",
       "<small>shape: (5, 45)</small><table border=\"1\" class=\"dataframe\"><thead><tr><th>ID</th><th>F1_regular</th><th>F5_reverse</th><th>F2_regular</th><th>F1.1_regular</th><th>F2.1_regular</th><th>F6_reverse</th><th>F4_regular</th><th>F3_regular</th><th>F5.1_regular</th><th>F1.2_regular</th><th>F2.2_regular</th><th>F6.1_regular</th><th>F2.3_regular</th><th>F4.1_reverse</th><th>F2.4_regular</th><th>F5.2_reverse</th><th>F2.5_regular</th><th>F6.2_regular</th><th>F1.3_regular</th><th>F2.6_regular</th><th>F5.3_regular</th><th>F4.2_regular</th><th>F2.7_regular</th><th>F3.1_regular</th><th>F2.8_regular</th><th>F5.4_regular</th><th>F3.2_regular</th><th>F1.4_regular</th><th>F3.3_regular</th><th>F1.5_regular</th><th>F5.5_reverse</th><th>F6.3_reverse</th><th>F1.6_regular</th><th>F5.6_reverse</th><th>F2.9_regular</th><th>F3.4_regular</th><th>F4.3_reverse</th><th>F2.10_regular</th><th>F1.7_regular</th><th>F6.4_reverse</th><th>F4.4_regular</th><th>F5.7_regular</th><th>F3.5_regular</th><th>F2.11_regular</th></tr><tr><td>i64</td><td>str</td><td>str</td><td>str</td><td>str</td><td>str</td><td>str</td><td>str</td><td>str</td><td>str</td><td>str</td><td>str</td><td>str</td><td>str</td><td>str</td><td>str</td><td>str</td><td>str</td><td>str</td><td>str</td><td>str</td><td>str</td><td>str</td><td>str</td><td>str</td><td>str</td><td>str</td><td>str</td><td>str</td><td>str</td><td>str</td><td>str</td><td>str</td><td>str</td><td>str</td><td>str</td><td>str</td><td>str</td><td>str</td><td>str</td><td>str</td><td>str</td><td>str</td><td>str</td><td>str</td></tr></thead><tbody><tr><td>1</td><td>&quot;Somewhat Agree&quot;</td><td>&quot;Somewhat Disagree&quot;</td><td>&quot;Somewhat Agree&quot;</td><td>&quot;Somewhat Agree&quot;</td><td>&quot;Somewhat Agree&quot;</td><td>&quot;Somewhat Disagree&quot;</td><td>&quot;Somewhat Agree&quot;</td><td>&quot;Somewhat Agree&quot;</td><td>&quot;Somewhat Agree&quot;</td><td>&quot;Somewhat Agree&quot;</td><td>&quot;Somewhat Agree&quot;</td><td>&quot;Somewhat Agree&quot;</td><td>&quot;Somewhat Agree&quot;</td><td>&quot;Somewhat Agree&quot;</td><td>&quot;Somewhat Agree&quot;</td><td>&quot;Somewhat Agree&quot;</td><td>&quot;Somewhat Agree&quot;</td><td>&quot;Somewhat Agree&quot;</td><td>&quot;Somewhat Agree&quot;</td><td>&quot;Somewhat Agree&quot;</td><td>&quot;Somewhat Agree&quot;</td><td>&quot;Somewhat Agree&quot;</td><td>&quot;Somewhat Agree&quot;</td><td>&quot;Somewhat Disagree&quot;</td><td>&quot;Somewhat Agree&quot;</td><td>&quot;Somewhat Agree&quot;</td><td>&quot;Somewhat Agree&quot;</td><td>&quot;Neither Agree nor Disagree&quot;</td><td>&quot;Somewhat Agree&quot;</td><td>&quot;Somewhat Agree&quot;</td><td>&quot;Somewhat Disagree&quot;</td><td>&quot;Somewhat Disagree&quot;</td><td>&quot;Somewhat Agree&quot;</td><td>&quot;Somewhat Agree&quot;</td><td>&quot;Somewhat Agree&quot;</td><td>&quot;Somewhat Disagree&quot;</td><td>&quot;Neither Agree nor Disagree&quot;</td><td>&quot;Somewhat Agree&quot;</td><td>&quot;Somewhat Agree&quot;</td><td>&quot;Somewhat Agree&quot;</td><td>&quot;Somewhat Agree&quot;</td><td>&quot;Somewhat Agree&quot;</td><td>&quot;Somewhat Agree&quot;</td><td>&quot;Somewhat Agree&quot;</td></tr><tr><td>2</td><td>&quot;Somewhat Agree&quot;</td><td>&quot;Somewhat Disagree&quot;</td><td>&quot;Somewhat Agree&quot;</td><td>&quot;Somewhat Agree&quot;</td><td>&quot;Somewhat Agree&quot;</td><td>&quot;Somewhat Disagree&quot;</td><td>&quot;Somewhat Agree&quot;</td><td>&quot;Neither Agree nor Disagree&quot;</td><td>&quot;Neither Agree nor Disagree&quot;</td><td>&quot;Somewhat Agree&quot;</td><td>&quot;Neither Agree nor Disagree&quot;</td><td>&quot;Somewhat Agree&quot;</td><td>&quot;Somewhat Agree&quot;</td><td>&quot;Neither Agree nor Disagree&quot;</td><td>&quot;Somewhat Agree&quot;</td><td>&quot;Somewhat Agree&quot;</td><td>&quot;Somewhat Agree&quot;</td><td>&quot;Somewhat Agree&quot;</td><td>&quot;Somewhat Agree&quot;</td><td>&quot;Somewhat Agree&quot;</td><td>&quot;Somewhat Agree&quot;</td><td>&quot;Somewhat Agree&quot;</td><td>&quot;Somewhat Agree&quot;</td><td>&quot;Neither Agree nor Disagree&quot;</td><td>&quot;Somewhat Agree&quot;</td><td>&quot;Neither Agree nor Disagree&quot;</td><td>&quot;Neither Agree nor Disagree&quot;</td><td>&quot;Somewhat Agree&quot;</td><td>&quot;Neither Agree nor Disagree&quot;</td><td>&quot;Neither Agree nor Disagree&quot;</td><td>&quot;Neither Agree nor Disagree&quot;</td><td>&quot;Somewhat Disagree&quot;</td><td>&quot;Somewhat Agree&quot;</td><td>&quot;Somewhat Disagree&quot;</td><td>&quot;Somewhat Agree&quot;</td><td>&quot;Somewhat Agree&quot;</td><td>&quot;Neither Agree nor Disagree&quot;</td><td>&quot;Somewhat Agree&quot;</td><td>&quot;Somewhat Agree&quot;</td><td>&quot;Somewhat Disagree&quot;</td><td>&quot;Neither Agree nor Disagree&quot;</td><td>&quot;Somewhat Agree&quot;</td><td>&quot;Neither Agree nor Disagree&quot;</td><td>&quot;Somewhat Agree&quot;</td></tr><tr><td>3</td><td>&quot;Strongly Agree&quot;</td><td>&quot;Neither Agree nor Disagree&quot;</td><td>&quot;Somewhat Agree&quot;</td><td>&quot;Strongly Agree&quot;</td><td>&quot;Strongly Agree&quot;</td><td>&quot;Somewhat Disagree&quot;</td><td>&quot;Somewhat Agree&quot;</td><td>&quot;Somewhat Agree&quot;</td><td>&quot;Somewhat Agree&quot;</td><td>&quot;Strongly Agree&quot;</td><td>&quot;Somewhat Agree&quot;</td><td>&quot;Neither Agree nor Disagree&quot;</td><td>&quot;Somewhat Agree&quot;</td><td>&quot;Neither Agree nor Disagree&quot;</td><td>&quot;Somewhat Agree&quot;</td><td>&quot;Somewhat Disagree&quot;</td><td>&quot;Strongly Agree&quot;</td><td>&quot;Somewhat Agree&quot;</td><td>&quot;Strongly Agree&quot;</td><td>&quot;Somewhat Agree&quot;</td><td>&quot;Somewhat Agree&quot;</td><td>&quot;Somewhat Agree&quot;</td><td>null</td><td>&quot;Somewhat Disagree&quot;</td><td>&quot;Somewhat Agree&quot;</td><td>&quot;Somewhat Agree&quot;</td><td>&quot;Somewhat Agree&quot;</td><td>&quot;Somewhat Disagree&quot;</td><td>&quot;Somewhat Agree&quot;</td><td>&quot;Strongly Agree&quot;</td><td>&quot;Somewhat Disagree&quot;</td><td>&quot;Somewhat Disagree&quot;</td><td>&quot;Strongly Agree&quot;</td><td>&quot;Somewhat Disagree&quot;</td><td>&quot;Somewhat Agree&quot;</td><td>&quot;Somewhat Agree&quot;</td><td>&quot;Neither Agree nor Disagree&quot;</td><td>&quot;Somewhat Agree&quot;</td><td>&quot;Somewhat Agree&quot;</td><td>&quot;Somewhat Agree&quot;</td><td>&quot;Somewhat Agree&quot;</td><td>&quot;Strongly Agree&quot;</td><td>&quot;Strongly Disagree&quot;</td><td>&quot;Somewhat Agree&quot;</td></tr><tr><td>4</td><td>&quot;Somewhat Agree&quot;</td><td>&quot;Somewhat Agree&quot;</td><td>&quot;Strongly Agree&quot;</td><td>&quot;Somewhat Agree&quot;</td><td>&quot;Strongly Agree&quot;</td><td>&quot;Neither Agree nor Disagree&quot;</td><td>&quot;Neither Agree nor Disagree&quot;</td><td>&quot;Somewhat Disagree&quot;</td><td>&quot;Somewhat Agree&quot;</td><td>&quot;Strongly Agree&quot;</td><td>&quot;Strongly Agree&quot;</td><td>&quot;Somewhat Agree&quot;</td><td>&quot;Somewhat Agree&quot;</td><td>&quot;Neither Agree nor Disagree&quot;</td><td>&quot;Strongly Agree&quot;</td><td>&quot;Somewhat Disagree&quot;</td><td>&quot;Strongly Agree&quot;</td><td>&quot;Somewhat Agree&quot;</td><td>&quot;Somewhat Agree&quot;</td><td>&quot;Strongly Agree&quot;</td><td>&quot;Somewhat Agree&quot;</td><td>&quot;Somewhat Agree&quot;</td><td>&quot;Somewhat Agree&quot;</td><td>&quot;Somewhat Disagree&quot;</td><td>&quot;Somewhat Agree&quot;</td><td>&quot;Somewhat Agree&quot;</td><td>&quot;Somewhat Disagree&quot;</td><td>&quot;Neither Agree nor Disagree&quot;</td><td>&quot;Somewhat Disagree&quot;</td><td>&quot;Somewhat Agree&quot;</td><td>&quot;Somewhat Disagree&quot;</td><td>&quot;Somewhat Agree&quot;</td><td>&quot;Strongly Agree&quot;</td><td>&quot;Somewhat Disagree&quot;</td><td>&quot;Somewhat Agree&quot;</td><td>&quot;Somewhat Disagree&quot;</td><td>&quot;Somewhat Agree&quot;</td><td>&quot;Somewhat Agree&quot;</td><td>&quot;Neither Agree nor Disagree&quot;</td><td>&quot;Neither Agree nor Disagree&quot;</td><td>&quot;Neither Agree nor Disagree&quot;</td><td>&quot;Somewhat Agree&quot;</td><td>&quot;Somewhat Disagree&quot;</td><td>&quot;Somewhat Agree&quot;</td></tr><tr><td>5</td><td>&quot;Strongly Agree&quot;</td><td>&quot;Strongly Disagree&quot;</td><td>&quot;Neither Agree nor Disagree&quot;</td><td>&quot;Strongly Agree&quot;</td><td>&quot;Somewhat Agree&quot;</td><td>&quot;Strongly Disagree&quot;</td><td>&quot;Strongly Agree&quot;</td><td>&quot;Somewhat Agree&quot;</td><td>&quot;Neither Agree nor Disagree&quot;</td><td>&quot;Strongly Agree&quot;</td><td>&quot;Somewhat Agree&quot;</td><td>&quot;Somewhat Agree&quot;</td><td>&quot;Somewhat Disagree&quot;</td><td>&quot;Neither Agree nor Disagree&quot;</td><td>&quot;Somewhat Agree&quot;</td><td>&quot;Strongly Disagree&quot;</td><td>&quot;Strongly Agree&quot;</td><td>&quot;Strongly Agree&quot;</td><td>&quot;Strongly Agree&quot;</td><td>&quot;Strongly Agree&quot;</td><td>&quot;Strongly Agree&quot;</td><td>&quot;Somewhat Agree&quot;</td><td>&quot;Somewhat Agree&quot;</td><td>&quot;Somewhat Agree&quot;</td><td>&quot;Somewhat Agree&quot;</td><td>&quot;Neither Agree nor Disagree&quot;</td><td>&quot;Somewhat Agree&quot;</td><td>&quot;Somewhat Agree&quot;</td><td>&quot;Somewhat Agree&quot;</td><td>&quot;Somewhat Agree&quot;</td><td>&quot;Strongly Disagree&quot;</td><td>&quot;Neither Agree nor Disagree&quot;</td><td>&quot;Strongly Agree&quot;</td><td>&quot;Strongly Disagree&quot;</td><td>&quot;Somewhat Agree&quot;</td><td>&quot;Somewhat Agree&quot;</td><td>&quot;Neither Agree nor Disagree&quot;</td><td>&quot;Somewhat Agree&quot;</td><td>&quot;Somewhat Agree&quot;</td><td>&quot;Somewhat Agree&quot;</td><td>&quot;Somewhat Agree&quot;</td><td>&quot;Strongly Agree&quot;</td><td>&quot;Somewhat Disagree&quot;</td><td>&quot;Somewhat Agree&quot;</td></tr></tbody></table></div>"
      ],
      "text/plain": [
       "shape: (5, 45)\n",
       "┌─────┬────────────┬────────────┬────────────┬───┬────────────┬────────────┬───────────┬───────────┐\n",
       "│ ID  ┆ F1_regular ┆ F5_reverse ┆ F2_regular ┆ … ┆ F4.4_regul ┆ F5.7_regul ┆ F3.5_regu ┆ F2.11_reg │\n",
       "│ --- ┆ ---        ┆ ---        ┆ ---        ┆   ┆ ar         ┆ ar         ┆ lar       ┆ ular      │\n",
       "│ i64 ┆ str        ┆ str        ┆ str        ┆   ┆ ---        ┆ ---        ┆ ---       ┆ ---       │\n",
       "│     ┆            ┆            ┆            ┆   ┆ str        ┆ str        ┆ str       ┆ str       │\n",
       "╞═════╪════════════╪════════════╪════════════╪═══╪════════════╪════════════╪═══════════╪═══════════╡\n",
       "│ 1   ┆ Somewhat   ┆ Somewhat   ┆ Somewhat   ┆ … ┆ Somewhat   ┆ Somewhat   ┆ Somewhat  ┆ Somewhat  │\n",
       "│     ┆ Agree      ┆ Disagree   ┆ Agree      ┆   ┆ Agree      ┆ Agree      ┆ Agree     ┆ Agree     │\n",
       "│ 2   ┆ Somewhat   ┆ Somewhat   ┆ Somewhat   ┆ … ┆ Neither    ┆ Somewhat   ┆ Neither   ┆ Somewhat  │\n",
       "│     ┆ Agree      ┆ Disagree   ┆ Agree      ┆   ┆ Agree nor  ┆ Agree      ┆ Agree nor ┆ Agree     │\n",
       "│     ┆            ┆            ┆            ┆   ┆ Disagree   ┆            ┆ Disagree  ┆           │\n",
       "│ 3   ┆ Strongly   ┆ Neither    ┆ Somewhat   ┆ … ┆ Somewhat   ┆ Strongly   ┆ Strongly  ┆ Somewhat  │\n",
       "│     ┆ Agree      ┆ Agree nor  ┆ Agree      ┆   ┆ Agree      ┆ Agree      ┆ Disagree  ┆ Agree     │\n",
       "│     ┆            ┆ Disagree   ┆            ┆   ┆            ┆            ┆           ┆           │\n",
       "│ 4   ┆ Somewhat   ┆ Somewhat   ┆ Strongly   ┆ … ┆ Neither    ┆ Somewhat   ┆ Somewhat  ┆ Somewhat  │\n",
       "│     ┆ Agree      ┆ Agree      ┆ Agree      ┆   ┆ Agree nor  ┆ Agree      ┆ Disagree  ┆ Agree     │\n",
       "│     ┆            ┆            ┆            ┆   ┆ Disagree   ┆            ┆           ┆           │\n",
       "│ 5   ┆ Strongly   ┆ Strongly   ┆ Neither    ┆ … ┆ Somewhat   ┆ Strongly   ┆ Somewhat  ┆ Somewhat  │\n",
       "│     ┆ Agree      ┆ Disagree   ┆ Agree nor  ┆   ┆ Agree      ┆ Agree      ┆ Disagree  ┆ Agree     │\n",
       "│     ┆            ┆            ┆ Disagree   ┆   ┆            ┆            ┆           ┆           │\n",
       "└─────┴────────────┴────────────┴────────────┴───┴────────────┴────────────┴───────────┴───────────┘"
      ]
     },
     "execution_count": 216,
     "metadata": {},
     "output_type": "execute_result"
    }
   ],
   "source": [
    "#2\n",
    "rename_dict = {\n",
    "    q: f\"{q}_{'reverse' if need == 'Yes' else 'regular'}\"\n",
    "    for q, need in zip(\n",
    "        reverse_coding[\"Column Name\"].to_list(),\n",
    "        reverse_coding[\"Needs Reverse Coding?\"].to_list()\n",
    "    )\n",
    "}\n",
    "\n",
    "healthcare = (healthcare.rename(rename_dict))\n",
    "healthcare.head()"
   ]
  },
  {
   "cell_type": "code",
   "execution_count": 217,
   "id": "ba42d47a",
   "metadata": {},
   "outputs": [],
   "source": [
    "import polars.selectors as cs"
   ]
  },
  {
   "cell_type": "code",
   "execution_count": 218,
   "id": "a7761f86",
   "metadata": {},
   "outputs": [
    {
     "data": {
      "text/html": [
       "<div><style>\n",
       ".dataframe > thead > tr,\n",
       ".dataframe > tbody > tr {\n",
       "  text-align: right;\n",
       "  white-space: pre-wrap;\n",
       "}\n",
       "</style>\n",
       "<small>shape: (5, 45)</small><table border=\"1\" class=\"dataframe\"><thead><tr><th>ID</th><th>F1_regular</th><th>F5_reverse</th><th>F2_regular</th><th>F1.1_regular</th><th>F2.1_regular</th><th>F6_reverse</th><th>F4_regular</th><th>F3_regular</th><th>F5.1_regular</th><th>F1.2_regular</th><th>F2.2_regular</th><th>F6.1_regular</th><th>F2.3_regular</th><th>F4.1_reverse</th><th>F2.4_regular</th><th>F5.2_reverse</th><th>F2.5_regular</th><th>F6.2_regular</th><th>F1.3_regular</th><th>F2.6_regular</th><th>F5.3_regular</th><th>F4.2_regular</th><th>F2.7_regular</th><th>F3.1_regular</th><th>F2.8_regular</th><th>F5.4_regular</th><th>F3.2_regular</th><th>F1.4_regular</th><th>F3.3_regular</th><th>F1.5_regular</th><th>F5.5_reverse</th><th>F6.3_reverse</th><th>F1.6_regular</th><th>F5.6_reverse</th><th>F2.9_regular</th><th>F3.4_regular</th><th>F4.3_reverse</th><th>F2.10_regular</th><th>F1.7_regular</th><th>F6.4_reverse</th><th>F4.4_regular</th><th>F5.7_regular</th><th>F3.5_regular</th><th>F2.11_regular</th></tr><tr><td>i64</td><td>i64</td><td>i64</td><td>i64</td><td>i64</td><td>i64</td><td>i64</td><td>i64</td><td>i64</td><td>i64</td><td>i64</td><td>i64</td><td>i64</td><td>i64</td><td>i64</td><td>i64</td><td>i64</td><td>i64</td><td>i64</td><td>i64</td><td>i64</td><td>i64</td><td>i64</td><td>i64</td><td>i64</td><td>i64</td><td>i64</td><td>i64</td><td>i64</td><td>i64</td><td>i64</td><td>i64</td><td>i64</td><td>i64</td><td>i64</td><td>i64</td><td>i64</td><td>i64</td><td>i64</td><td>i64</td><td>i64</td><td>i64</td><td>i64</td><td>i64</td><td>i64</td></tr></thead><tbody><tr><td>1</td><td>4</td><td>4</td><td>4</td><td>4</td><td>4</td><td>4</td><td>4</td><td>4</td><td>4</td><td>4</td><td>4</td><td>4</td><td>4</td><td>2</td><td>4</td><td>2</td><td>4</td><td>4</td><td>4</td><td>4</td><td>4</td><td>4</td><td>4</td><td>2</td><td>4</td><td>4</td><td>4</td><td>3</td><td>4</td><td>4</td><td>4</td><td>4</td><td>4</td><td>2</td><td>4</td><td>2</td><td>3</td><td>4</td><td>4</td><td>2</td><td>4</td><td>4</td><td>4</td><td>4</td></tr><tr><td>2</td><td>4</td><td>4</td><td>4</td><td>4</td><td>4</td><td>4</td><td>4</td><td>3</td><td>3</td><td>4</td><td>3</td><td>4</td><td>4</td><td>3</td><td>4</td><td>2</td><td>4</td><td>4</td><td>4</td><td>4</td><td>4</td><td>4</td><td>4</td><td>3</td><td>4</td><td>3</td><td>3</td><td>4</td><td>3</td><td>3</td><td>3</td><td>4</td><td>4</td><td>4</td><td>4</td><td>4</td><td>3</td><td>4</td><td>4</td><td>4</td><td>3</td><td>4</td><td>3</td><td>4</td></tr><tr><td>3</td><td>5</td><td>3</td><td>4</td><td>5</td><td>5</td><td>4</td><td>4</td><td>4</td><td>4</td><td>5</td><td>4</td><td>3</td><td>4</td><td>3</td><td>4</td><td>4</td><td>5</td><td>4</td><td>5</td><td>4</td><td>4</td><td>4</td><td>3</td><td>2</td><td>4</td><td>4</td><td>4</td><td>2</td><td>4</td><td>5</td><td>4</td><td>4</td><td>5</td><td>4</td><td>4</td><td>4</td><td>3</td><td>4</td><td>4</td><td>2</td><td>4</td><td>5</td><td>1</td><td>4</td></tr><tr><td>4</td><td>4</td><td>2</td><td>5</td><td>4</td><td>5</td><td>3</td><td>3</td><td>2</td><td>4</td><td>5</td><td>5</td><td>4</td><td>4</td><td>3</td><td>5</td><td>4</td><td>5</td><td>4</td><td>4</td><td>5</td><td>4</td><td>4</td><td>4</td><td>2</td><td>4</td><td>4</td><td>2</td><td>3</td><td>2</td><td>4</td><td>4</td><td>2</td><td>5</td><td>4</td><td>4</td><td>2</td><td>2</td><td>4</td><td>3</td><td>3</td><td>3</td><td>4</td><td>2</td><td>4</td></tr><tr><td>5</td><td>5</td><td>5</td><td>3</td><td>5</td><td>4</td><td>5</td><td>5</td><td>4</td><td>3</td><td>5</td><td>4</td><td>4</td><td>2</td><td>3</td><td>4</td><td>5</td><td>5</td><td>5</td><td>5</td><td>5</td><td>5</td><td>4</td><td>4</td><td>4</td><td>4</td><td>3</td><td>4</td><td>4</td><td>4</td><td>4</td><td>5</td><td>3</td><td>5</td><td>5</td><td>4</td><td>4</td><td>3</td><td>4</td><td>4</td><td>2</td><td>4</td><td>5</td><td>2</td><td>4</td></tr></tbody></table></div>"
      ],
      "text/plain": [
       "shape: (5, 45)\n",
       "┌─────┬────────────┬────────────┬────────────┬───┬────────────┬────────────┬───────────┬───────────┐\n",
       "│ ID  ┆ F1_regular ┆ F5_reverse ┆ F2_regular ┆ … ┆ F4.4_regul ┆ F5.7_regul ┆ F3.5_regu ┆ F2.11_reg │\n",
       "│ --- ┆ ---        ┆ ---        ┆ ---        ┆   ┆ ar         ┆ ar         ┆ lar       ┆ ular      │\n",
       "│ i64 ┆ i64        ┆ i64        ┆ i64        ┆   ┆ ---        ┆ ---        ┆ ---       ┆ ---       │\n",
       "│     ┆            ┆            ┆            ┆   ┆ i64        ┆ i64        ┆ i64       ┆ i64       │\n",
       "╞═════╪════════════╪════════════╪════════════╪═══╪════════════╪════════════╪═══════════╪═══════════╡\n",
       "│ 1   ┆ 4          ┆ 4          ┆ 4          ┆ … ┆ 4          ┆ 4          ┆ 4         ┆ 4         │\n",
       "│ 2   ┆ 4          ┆ 4          ┆ 4          ┆ … ┆ 3          ┆ 4          ┆ 3         ┆ 4         │\n",
       "│ 3   ┆ 5          ┆ 3          ┆ 4          ┆ … ┆ 4          ┆ 5          ┆ 1         ┆ 4         │\n",
       "│ 4   ┆ 4          ┆ 2          ┆ 5          ┆ … ┆ 3          ┆ 4          ┆ 2         ┆ 4         │\n",
       "│ 5   ┆ 5          ┆ 5          ┆ 3          ┆ … ┆ 4          ┆ 5          ┆ 2         ┆ 4         │\n",
       "└─────┴────────────┴────────────┴────────────┴───┴────────────┴────────────┴───────────┴───────────┘"
      ]
     },
     "execution_count": 218,
     "metadata": {},
     "output_type": "execute_result"
    }
   ],
   "source": [
    "#3\n",
    "mapping = {\n",
    "    \"Strongly Disagree\": 1,\n",
    "    \"Somewhat Disagree\": 2,\n",
    "    \"Neither Agree nor Disagree\": 3,\n",
    "    \"Somewhat Agree\": 4,\n",
    "    \"Strongly Agree\": 5\n",
    "}\n",
    "#gave default value-3 so that null values are not created and questions ares skewed\n",
    "#multiplied by -1 and added 6 to reverse the scale for reverse coded questions\n",
    "healthcare_right = healthcare.with_columns(\n",
    "    cs.contains(\"_regular\").replace(mapping).cast(int).fill_null(3),      #step 5/1 to get rid of null values\n",
    "    (cs.contains(\"_reverse\").replace(mapping).cast(int) * -1 + 6).fill_null(3)\n",
    ")\n",
    "healthcare_right.head()\n",
    "\n"
   ]
  },
  {
   "cell_type": "code",
   "execution_count": 235,
   "id": "e780ef58",
   "metadata": {},
   "outputs": [
    {
     "data": {
      "text/html": [
       "<div><style>\n",
       ".dataframe > thead > tr,\n",
       ".dataframe > tbody > tr {\n",
       "  text-align: right;\n",
       "  white-space: pre-wrap;\n",
       "}\n",
       "</style>\n",
       "<small>shape: (5, 7)</small><table border=\"1\" class=\"dataframe\"><thead><tr><th>ID</th><th>F1_total</th><th>F2_total</th><th>F3_total</th><th>F4_total</th><th>F5_total</th><th>F6_total</th></tr><tr><td>i64</td><td>i64</td><td>i64</td><td>i64</td><td>i64</td><td>i64</td><td>i64</td></tr></thead><tbody><tr><td>1</td><td>31</td><td>48</td><td>20</td><td>17</td><td>28</td><td>18</td></tr><tr><td>2</td><td>31</td><td>47</td><td>19</td><td>17</td><td>27</td><td>20</td></tr><tr><td>3</td><td>36</td><td>49</td><td>19</td><td>18</td><td>32</td><td>17</td></tr><tr><td>4</td><td>32</td><td>54</td><td>12</td><td>15</td><td>30</td><td>16</td></tr><tr><td>5</td><td>37</td><td>47</td><td>22</td><td>19</td><td>36</td><td>19</td></tr></tbody></table></div>"
      ],
      "text/plain": [
       "shape: (5, 7)\n",
       "┌─────┬──────────┬──────────┬──────────┬──────────┬──────────┬──────────┐\n",
       "│ ID  ┆ F1_total ┆ F2_total ┆ F3_total ┆ F4_total ┆ F5_total ┆ F6_total │\n",
       "│ --- ┆ ---      ┆ ---      ┆ ---      ┆ ---      ┆ ---      ┆ ---      │\n",
       "│ i64 ┆ i64      ┆ i64      ┆ i64      ┆ i64      ┆ i64      ┆ i64      │\n",
       "╞═════╪══════════╪══════════╪══════════╪══════════╪══════════╪══════════╡\n",
       "│ 1   ┆ 31       ┆ 48       ┆ 20       ┆ 17       ┆ 28       ┆ 18       │\n",
       "│ 2   ┆ 31       ┆ 47       ┆ 19       ┆ 17       ┆ 27       ┆ 20       │\n",
       "│ 3   ┆ 36       ┆ 49       ┆ 19       ┆ 18       ┆ 32       ┆ 17       │\n",
       "│ 4   ┆ 32       ┆ 54       ┆ 12       ┆ 15       ┆ 30       ┆ 16       │\n",
       "│ 5   ┆ 37       ┆ 47       ┆ 22       ┆ 19       ┆ 36       ┆ 19       │\n",
       "└─────┴──────────┴──────────┴──────────┴──────────┴──────────┴──────────┘"
      ]
     },
     "execution_count": 235,
     "metadata": {},
     "output_type": "execute_result"
    }
   ],
   "source": [
    "#4using pl.reduce for each question type\n",
    "import polars.selectors as cs\n",
    "\n",
    "healthcare_numberss = healthcare_right.with_columns([\n",
    "    pl.col(c).alias(c.replace(\"_regular\", \"_score\").replace(\"_reverse\", \"_score\"))\n",
    "    for c in healthcare_right.columns\n",
    "    if \"_regular\" in c or \"_reverse\" in c\n",
    "]).select(\"ID\", cs.contains(\"_score\")).with_columns([\n",
    "   pl.reduce(add, cs.contains(\"F1\")).alias(\"F1_total\"),\n",
    "   pl.reduce(add, cs.contains(\"F2\")).alias(\"F2_total\"),\n",
    "   pl.reduce(add, cs.contains(\"F3\")).alias(\"F3_total\"),\n",
    "   pl.reduce(add, cs.contains(\"F4\")).alias(\"F4_total\"),\n",
    "   pl.reduce(add, cs.contains(\"F5\")).alias(\"F5_total\"),\n",
    "   pl.reduce(add, cs.contains(\"F6\")).alias(\"F6_total\")\n",
    "    ]).select(\"ID\", cs.contains(\"_total\"))  \n",
    "\n",
    "healthcare_numberss.head()"
   ]
  },
  {
   "cell_type": "code",
   "execution_count": 239,
   "id": "5a1080ea",
   "metadata": {},
   "outputs": [
    {
     "data": {
      "text/html": [
       "<div><style>\n",
       ".dataframe > thead > tr,\n",
       ".dataframe > tbody > tr {\n",
       "  text-align: right;\n",
       "  white-space: pre-wrap;\n",
       "}\n",
       "</style>\n",
       "<small>shape: (5, 7)</small><table border=\"1\" class=\"dataframe\"><thead><tr><th>ID</th><th>F1_total</th><th>F2_total</th><th>F3_total</th><th>F4_total</th><th>F5_total</th><th>F6_total</th></tr><tr><td>i64</td><td>i64</td><td>i64</td><td>i64</td><td>i64</td><td>i64</td><td>i64</td></tr></thead><tbody><tr><td>1</td><td>31</td><td>48</td><td>20</td><td>17</td><td>28</td><td>18</td></tr><tr><td>2</td><td>31</td><td>47</td><td>19</td><td>17</td><td>27</td><td>20</td></tr><tr><td>3</td><td>36</td><td>49</td><td>19</td><td>18</td><td>32</td><td>17</td></tr><tr><td>4</td><td>32</td><td>54</td><td>12</td><td>15</td><td>30</td><td>16</td></tr><tr><td>5</td><td>37</td><td>47</td><td>22</td><td>19</td><td>36</td><td>19</td></tr></tbody></table></div>"
      ],
      "text/plain": [
       "shape: (5, 7)\n",
       "┌─────┬──────────┬──────────┬──────────┬──────────┬──────────┬──────────┐\n",
       "│ ID  ┆ F1_total ┆ F2_total ┆ F3_total ┆ F4_total ┆ F5_total ┆ F6_total │\n",
       "│ --- ┆ ---      ┆ ---      ┆ ---      ┆ ---      ┆ ---      ┆ ---      │\n",
       "│ i64 ┆ i64      ┆ i64      ┆ i64      ┆ i64      ┆ i64      ┆ i64      │\n",
       "╞═════╪══════════╪══════════╪══════════╪══════════╪══════════╪══════════╡\n",
       "│ 1   ┆ 31       ┆ 48       ┆ 20       ┆ 17       ┆ 28       ┆ 18       │\n",
       "│ 2   ┆ 31       ┆ 47       ┆ 19       ┆ 17       ┆ 27       ┆ 20       │\n",
       "│ 3   ┆ 36       ┆ 49       ┆ 19       ┆ 18       ┆ 32       ┆ 17       │\n",
       "│ 4   ┆ 32       ┆ 54       ┆ 12       ┆ 15       ┆ 30       ┆ 16       │\n",
       "│ 5   ┆ 37       ┆ 47       ┆ 22       ┆ 19       ┆ 36       ┆ 19       │\n",
       "└─────┴──────────┴──────────┴──────────┴──────────┴──────────┴──────────┘"
      ]
     },
     "execution_count": 239,
     "metadata": {},
     "output_type": "execute_result"
    }
   ],
   "source": [
    "#5/2using one expression using list comprehension\n",
    "question_prefixes = [\"F1\", \"F2\", \"F3\", \"F4\", \"F5\", \"F6\"]\n",
    "\n",
    "healthcareshort = (\n",
    "    healthcare_right\n",
    "    .with_columns([\n",
    "        pl.col(c).alias(c.replace(\"_regular\", \"_score\").replace(\"_reverse\", \"_score\"))\n",
    "        for c in healthcare_right.columns\n",
    "        if \"_regular\" in c or \"_reverse\" in c\n",
    "    ])\n",
    "    .select(\"ID\", cs.contains(\"_score\"))\n",
    "    .with_columns([\n",
    "        pl.reduce(add, cs.contains(q)).alias(f\"{q}_total\")\n",
    "        for q in question_prefixes\n",
    "    ])\n",
    "    .select(\"ID\", cs.contains(\"_total\"))\n",
    ")\n",
    "\n",
    "healthcareshort.head()\n"
   ]
  }
 ],
 "metadata": {
  "kernelspec": {
   "display_name": "Python 3",
   "language": "python",
   "name": "python3"
  },
  "language_info": {
   "codemirror_mode": {
    "name": "ipython",
    "version": 3
   },
   "file_extension": ".py",
   "mimetype": "text/x-python",
   "name": "python",
   "nbconvert_exporter": "python",
   "pygments_lexer": "ipython3",
   "version": "3.11.9"
  }
 },
 "nbformat": 4,
 "nbformat_minor": 5
}
